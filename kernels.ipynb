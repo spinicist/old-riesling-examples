version https://git-lfs.github.com/spec/v1
oid sha256:dec5b5f5ee95e4c1bf1abe62fcbb01d1d44d19a09fb373b34a89a6a9416c3d99
size 806475
