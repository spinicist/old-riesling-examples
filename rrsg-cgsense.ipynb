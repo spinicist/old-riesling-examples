version https://git-lfs.github.com/spec/v1
oid sha256:632f9ce9b7beb784a40f712b1d8587f52fac48db48e5f356e867e29ce16d5291
size 4168520
