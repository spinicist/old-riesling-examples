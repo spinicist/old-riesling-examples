version https://git-lfs.github.com/spec/v1
oid sha256:3274e8459e3a40ba23e0eac927c92ccb21f79931cdfd762181bfc05445bb1e0c
size 4112246
