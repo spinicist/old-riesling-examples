version https://git-lfs.github.com/spec/v1
oid sha256:7d75abf386c9ecbb7a340a0df6070ae58b34434982ff0150e2dca470efe0e6a5
size 2239531
