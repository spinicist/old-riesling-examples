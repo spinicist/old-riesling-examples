version https://git-lfs.github.com/spec/v1
oid sha256:3314ea84e9f74ca8f58989fd7b425cd57738de776389b463868d576ac12914a8
size 3606046
