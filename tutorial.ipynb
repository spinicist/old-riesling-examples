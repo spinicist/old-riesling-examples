version https://git-lfs.github.com/spec/v1
oid sha256:0147e0260efae7e4f4381ef955b8b257490f3645662395cf936eba2881ab358b
size 2099898
