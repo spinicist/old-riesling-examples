version https://git-lfs.github.com/spec/v1
oid sha256:ed9a5d72ad7cff01c83bb89b15dbfb8d9aa7b2243dfbac1b65fd70bbf4e5c703
size 2564877
