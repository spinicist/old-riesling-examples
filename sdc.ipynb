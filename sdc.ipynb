version https://git-lfs.github.com/spec/v1
oid sha256:ba728eb07c0ba1de90e50b0867a15f75661b64d265ad8e11e6b21663b125b34c
size 1667060
