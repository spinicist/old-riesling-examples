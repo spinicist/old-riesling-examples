version https://git-lfs.github.com/spec/v1
oid sha256:6576655dacc4fa9c877d871bdbd347bf3a6302127e61eb46152eda8e16fae4ba
size 24235879
