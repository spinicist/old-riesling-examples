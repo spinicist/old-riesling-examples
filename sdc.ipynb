version https://git-lfs.github.com/spec/v1
oid sha256:29719855db0ca5df92c6e0b4fe696693b3271d36c3f681cfc4bd466bf2a68fd9
size 1381450
