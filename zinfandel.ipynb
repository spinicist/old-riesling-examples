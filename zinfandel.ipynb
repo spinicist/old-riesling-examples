version https://git-lfs.github.com/spec/v1
oid sha256:f9f7d888875e1ef943225b12d4f0d7a410ccc19178b0b8f0c3dcedd186ed42bd
size 853633
