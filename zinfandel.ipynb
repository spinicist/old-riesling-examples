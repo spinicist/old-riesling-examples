version https://git-lfs.github.com/spec/v1
oid sha256:9c599cd8dae76474cb52ac461e83a37ef1f9bdb9ea236b3a52dcf90724f16bee
size 1132380
