{
 "cells": [
  {
   "cell_type": "code",
   "execution_count": null,
   "source": [
    "import os\n",
    "import sys\n",
    "import requests\n",
    "\n",
    "import h5py\n",
    "import matplotlib.pyplot as plt\n",
    "import numpy as np\n",
    "from convert_rrsg_data import convert_data"
   ],
   "outputs": [],
   "metadata": {}
  },
  {
   "cell_type": "code",
   "execution_count": null,
   "source": [
    "# Download data from Zenodo\n",
    "if not os.path.isdir('rrsg_data'):\n",
    "    os.mkdir('rrsg_data')\n",
    "    \n",
    "zenodo_files=[\"rawdata_brain_radial_96proj_12ch.h5\", \"rawdata_spiral_ETH.h5\"]\n",
    "\n",
    "for f in zenodo_files:\n",
    "    \n",
    "    if not os.path.isfile(\"rrsg_data/%s\"%f):\n",
    "        print(\"Downloading %s\"%f)\n",
    "        res = requests.get('https://zenodo.org/record/3975887/files/%s'%f)\n",
    "        with open('rrsg_data/%s'%f, 'wb') as h5f:\n",
    "            h5f.write(res.content)"
   ],
   "outputs": [],
   "metadata": {}
  },
  {
   "cell_type": "code",
   "execution_count": null,
   "source": [
    "# Convert to riesling format\n",
    "f = 'rawdata_brain_radial_96proj_12ch.h5'\n",
    "convert_data(input_fname='rrsg_data/%s' % f,\n",
    "             output_fname='riesling_data/riesling_%s' % f,\n",
    "             matrix=[256, 256, 1], voxel_size=[0.78, 0.78, 2])\n",
    "\n",
    "f = 'rawdata_spiral_ETH.h5'\n",
    "convert_data(input_fname='rrsg_data/%s' % f,\n",
    "             output_fname='riesling_data/riesling_%s' % f,\n",
    "             matrix=[220, 220, 1], voxel_size=[1, 1, 2])"
   ],
   "outputs": [],
   "metadata": {}
  },
  {
   "cell_type": "code",
   "execution_count": null,
   "source": [
    "check = h5py.File('riesling_data/riesling_rawdata_brain_radial_96proj_12ch.h5')\n",
    "# check = h5py.File('../tut.h5')\n",
    "print(check.keys())\n",
    "print(check['trajectory'].shape)\n",
    "traj = np.array(check['trajectory'])\n",
    "plt.scatter(traj[::16,::8,0], traj[::16,::8,1])\n",
    "check.close()"
   ],
   "outputs": [],
   "metadata": {}
  },
  {
   "cell_type": "code",
   "execution_count": null,
   "source": [
    "!riesling hdr riesling_data/riesling_rawdata_brain_radial_96proj_12ch.h5"
   ],
   "outputs": [],
   "metadata": {}
  },
  {
   "cell_type": "code",
   "execution_count": null,
   "source": [
    "h5_in = 'riesling_data/riesling_rawdata_brain_radial_96proj_12ch.h5'\n",
    "fov = 234\n",
    "h5_out = 'riesling_recon/rrsg_challenge_brain'\n",
    "!riesling-ox recon --fov={fov} --sdc=pipe --os 2.5 --out={h5_out} -v {h5_in}\n",
    "imgh5 = h5py.File('riesling_recon/rrsg_challenge_brain-recon.h5')\n",
    "img = imgh5['image'][:]\n",
    "fig = plt.figure()\n",
    "plt.imshow(abs(img[0,0,:,:]))"
   ],
   "outputs": [],
   "metadata": {}
  },
  {
   "cell_type": "code",
   "execution_count": null,
   "source": [
    "h5_in = 'riesling_data/riesling_rawdata_spiral_ETH.h5'\n",
    "h5_out = 'riesling_recon/rrsg_challenge_spiral'\n",
    "!riesling-ox recon --sdc=pipe --out={h5_out} -v {h5_in}\n",
    "imgh5 = h5py.File('riesling_recon/rrsg_challenge_spiral-recon.h5')\n",
    "img = imgh5['image'][:]\n",
    "fig = plt.figure()\n",
    "plt.imshow(abs(img[0,0,:,:]))"
   ],
   "outputs": [],
   "metadata": {
    "scrolled": true
   }
  }
 ],
 "metadata": {
  "kernelspec": {
   "name": "python3",
   "display_name": "Python 3.9.7 64-bit"
  },
  "language_info": {
   "codemirror_mode": {
    "name": "ipython",
    "version": 3
   },
   "file_extension": ".py",
   "mimetype": "text/x-python",
   "name": "python",
   "nbconvert_exporter": "python",
   "pygments_lexer": "ipython3",
   "version": "3.9.7"
  },
  "interpreter": {
   "hash": "aee8b7b246df8f9039afb4144a1f6fd8d2ca17a180786b69acc140d282b71a49"
  }
 },
 "nbformat": 4,
 "nbformat_minor": 5
}